{
 "cells": [
  {
   "cell_type": "markdown",
   "id": "46359608",
   "metadata": {},
   "source": [
    "## Numpy Temelleri"
   ]
  },
  {
   "cell_type": "code",
   "execution_count": 1,
   "id": "d88fbd3c",
   "metadata": {},
   "outputs": [],
   "source": [
    "import numpy as np #kütüphane içe aktarıldı"
   ]
  },
  {
   "cell_type": "code",
   "execution_count": 2,
   "id": "9e54fe45",
   "metadata": {},
   "outputs": [
    {
     "data": {
      "text/plain": [
       "array([ 1,  2,  3,  4,  5,  6,  7,  8,  9, 10, 11, 12, 13, 14, 15])"
      ]
     },
     "execution_count": 2,
     "metadata": {},
     "output_type": "execute_result"
    }
   ],
   "source": [
    "# 1*15lik bir array olusturalım\n",
    "\n",
    "dizi = np.array([1,2,3,4,5,6,7,8,9,10,11,12,13,14,15])\n",
    "dizi"
   ]
  },
  {
   "cell_type": "code",
   "execution_count": 3,
   "id": "f21da59e",
   "metadata": {},
   "outputs": [
    {
     "data": {
      "text/plain": [
       "(15,)"
      ]
     },
     "execution_count": 3,
     "metadata": {},
     "output_type": "execute_result"
    }
   ],
   "source": [
    "# array boyutuna bakalım \n",
    "\n",
    "dizi.shape"
   ]
  },
  {
   "cell_type": "code",
   "execution_count": 4,
   "id": "a00e1757",
   "metadata": {},
   "outputs": [],
   "source": [
    "# 1*15'lik arrayi 3*5lik arraye dönüştürelim\n",
    "\n",
    "dizi2 = dizi.reshape(3,5)"
   ]
  },
  {
   "cell_type": "code",
   "execution_count": 6,
   "id": "f9f12b26",
   "metadata": {},
   "outputs": [
    {
     "name": "stdout",
     "output_type": "stream",
     "text": [
      "Şekil:  (3, 5)\n",
      "Boyut:  2\n"
     ]
    }
   ],
   "source": [
    "print(\"Şekil: \", dizi2.shape)\n",
    "print(\"Boyut: \", dizi2.ndim)"
   ]
  },
  {
   "cell_type": "code",
   "execution_count": 7,
   "id": "5bf8a35d",
   "metadata": {},
   "outputs": [
    {
     "name": "stdout",
     "output_type": "stream",
     "text": [
      "Veri tipi:  int32\n",
      "Boy:  15\n"
     ]
    }
   ],
   "source": [
    "print(\"Veri tipi: \", dizi2.dtype.name) #array iç. bulunan verinin tipi\n",
    "print(\"Boy: \", dizi2.size) #arrayin boyu 3*5=15 toplam boyutbilgisi"
   ]
  },
  {
   "cell_type": "code",
   "execution_count": 8,
   "id": "e2dfd320",
   "metadata": {},
   "outputs": [
    {
     "name": "stdout",
     "output_type": "stream",
     "text": [
      "type: <class 'numpy.ndarray'>\n"
     ]
    }
   ],
   "source": [
    "print(\"type:\", type(dizi2))"
   ]
  },
  {
   "cell_type": "code",
   "execution_count": 10,
   "id": "a7d2aaac",
   "metadata": {},
   "outputs": [
    {
     "data": {
      "text/plain": [
       "array([[1, 2, 3, 4],\n",
       "       [5, 6, 7, 8],\n",
       "       [9, 8, 7, 5]])"
      ]
     },
     "execution_count": 10,
     "metadata": {},
     "output_type": "execute_result"
    }
   ],
   "source": [
    "# 2 boyutlu array olusturalım\n",
    "\n",
    "dizi2D = np.array([[1,2,3,4],[5,6,7,8],[9,8,7,5]])\n",
    "dizi2D"
   ]
  },
  {
   "cell_type": "code",
   "execution_count": 11,
   "id": "de1e020b",
   "metadata": {},
   "outputs": [
    {
     "data": {
      "text/plain": [
       "array([[0., 0., 0., 0.],\n",
       "       [0., 0., 0., 0.],\n",
       "       [0., 0., 0., 0.]])"
      ]
     },
     "execution_count": 11,
     "metadata": {},
     "output_type": "execute_result"
    }
   ],
   "source": [
    "# sıfırlardan olusan array olusturalım\n",
    "\n",
    "sifir_dizi= np.zeros((3,4))\n",
    "sifir_dizi"
   ]
  },
  {
   "cell_type": "code",
   "execution_count": 12,
   "id": "be0a8948",
   "metadata": {},
   "outputs": [
    {
     "data": {
      "text/plain": [
       "array([[1., 1., 1., 1.],\n",
       "       [1., 1., 1., 1.],\n",
       "       [1., 1., 1., 1.]])"
      ]
     },
     "execution_count": 12,
     "metadata": {},
     "output_type": "execute_result"
    }
   ],
   "source": [
    "# birlerden olusan array olusturalim\n",
    "\n",
    "bir_dizi = np.ones((3,4))\n",
    "bir_dizi"
   ]
  },
  {
   "cell_type": "code",
   "execution_count": 14,
   "id": "27d73ba3",
   "metadata": {},
   "outputs": [
    {
     "data": {
      "text/plain": [
       "array([[0., 0., 0.],\n",
       "       [0., 0., 0.]])"
      ]
     },
     "execution_count": 14,
     "metadata": {},
     "output_type": "execute_result"
    }
   ],
   "source": [
    "# boş bir array olusturalım\n",
    "\n",
    "bos_dizi = np.empty((2,3))\n",
    "bos_dizi\n",
    "\n",
    "#pythonda boş 0 anlamına gelmektedir.\n",
    "#aşağıda görüldüğü gibi sayılar 0a yakınsamaktadır."
   ]
  },
  {
   "cell_type": "code",
   "execution_count": 15,
   "id": "edbf0e72",
   "metadata": {},
   "outputs": [
    {
     "data": {
      "text/plain": [
       "array([10, 15, 20, 25, 30, 35, 40, 45])"
      ]
     },
     "execution_count": 15,
     "metadata": {},
     "output_type": "execute_result"
    }
   ],
   "source": [
    "# arange (x,y basamak) x'den başlar y'ye kadar (y dahil değil), basamak büyüklüğünde artarak\n",
    "\n",
    "dizi_aralik = np.arange(10,50,5)\n",
    "dizi_aralik"
   ]
  },
  {
   "cell_type": "code",
   "execution_count": 17,
   "id": "d9ae7129",
   "metadata": {},
   "outputs": [
    {
     "data": {
      "text/plain": [
       "array([10. , 12.5, 15. , 17.5, 20. ])"
      ]
     },
     "execution_count": 17,
     "metadata": {},
     "output_type": "execute_result"
    }
   ],
   "source": [
    "# linspace(x,y basamak) x ve y arasına (x ve y dahil) basamak kadar böl\n",
    "\n",
    "dizi_bosluk = np.linspace(10,20,5) # 10 ile 20 arasını eşit aralıklı 5 sayı ile doldur.\n",
    "dizi_bosluk"
   ]
  },
  {
   "cell_type": "markdown",
   "id": "a993afde",
   "metadata": {},
   "source": [
    "# Numpy Temel Operasyonları\n",
    "\n",
    "* Toplama, Çıkarma, Çarpma gibi matematiksel işlemlerin nasıl yapıldığını öğreneceğiz.\n",
    "\n",
    "* min,max,sqrt, sum ve square metotlarını öğreneceğiz.\n",
    "\n",
    "* rastgele sayı üretecini inceleyeceğiz."
   ]
  },
  {
   "cell_type": "code",
   "execution_count": 18,
   "id": "f1e747ef",
   "metadata": {},
   "outputs": [
    {
     "name": "stdout",
     "output_type": "stream",
     "text": [
      "[1 2 3]\n",
      "\n",
      "[4 5 6]\n"
     ]
    }
   ],
   "source": [
    "#matematiksel işlemler için 2 tane array olusturalım\n",
    "\n",
    "a = np.array([1,2,3])\n",
    "b = np.array([4,5,6])\n",
    "\n",
    "print(a)\n",
    "print(\"\")\n",
    "print(b)"
   ]
  },
  {
   "cell_type": "code",
   "execution_count": 19,
   "id": "8c0e22fe",
   "metadata": {},
   "outputs": [
    {
     "name": "stdout",
     "output_type": "stream",
     "text": [
      "[5 7 9]\n",
      "[-3 -3 -3]\n",
      "[1 4 9]\n"
     ]
    }
   ],
   "source": [
    "print(a+b)\n",
    "print(a-b)\n",
    "print(a**2)"
   ]
  },
  {
   "cell_type": "code",
   "execution_count": 20,
   "id": "a8805596",
   "metadata": {},
   "outputs": [
    {
     "data": {
      "text/plain": [
       "array([ True, False, False])"
      ]
     },
     "execution_count": 20,
     "metadata": {},
     "output_type": "execute_result"
    }
   ],
   "source": [
    "#filtreleme\n",
    "\n",
    "a<2"
   ]
  },
  {
   "cell_type": "code",
   "execution_count": 21,
   "id": "348861ca",
   "metadata": {},
   "outputs": [
    {
     "name": "stdout",
     "output_type": "stream",
     "text": [
      "[[1 2 3]\n",
      " [4 5 6]]\n"
     ]
    }
   ],
   "source": [
    "#Hadamard çarpımı ve matris çarpımı için 2 array olusturalım.\n",
    "\n",
    "a = np.array([[1,2,3],[4,5,6]])\n",
    "b = np.array([[1,2,3],[4,5,6]])\n",
    "print(a)"
   ]
  },
  {
   "cell_type": "code",
   "execution_count": 22,
   "id": "8b717afd",
   "metadata": {},
   "outputs": [
    {
     "name": "stdout",
     "output_type": "stream",
     "text": [
      "[[ 1  4  9]\n",
      " [16 25 36]]\n"
     ]
    }
   ],
   "source": [
    "#Hadamard çarpımı - norml matris çarpımından farklıdır.\n",
    "\n",
    "print(a*b)"
   ]
  },
  {
   "cell_type": "code",
   "execution_count": 24,
   "id": "02a4c688",
   "metadata": {},
   "outputs": [
    {
     "name": "stdout",
     "output_type": "stream",
     "text": [
      "[[1 2 3]\n",
      " [4 5 6]]\n",
      "\n",
      "[[1 4]\n",
      " [2 5]\n",
      " [3 6]]\n",
      "\n",
      "[[14 32]\n",
      " [32 77]]\n"
     ]
    }
   ],
   "source": [
    "# Matris çarpımı\n",
    "\n",
    "print(a)\n",
    "print(\"\")\n",
    "print(b.T)\n",
    "print(\"\")\n",
    "\n",
    "c = a.dot(b.T)\n",
    "print(c)"
   ]
  },
  {
   "cell_type": "code",
   "execution_count": 25,
   "id": "7b35ce2a",
   "metadata": {},
   "outputs": [
    {
     "name": "stdout",
     "output_type": "stream",
     "text": [
      "[[1 2 3]\n",
      " [4 5 6]]\n"
     ]
    },
    {
     "data": {
      "text/plain": [
       "21"
      ]
     },
     "execution_count": 25,
     "metadata": {},
     "output_type": "execute_result"
    }
   ],
   "source": [
    "#bir dizinin elemanlarını toplama\n",
    "\n",
    "print(a)\n",
    "a.sum()"
   ]
  },
  {
   "cell_type": "code",
   "execution_count": 26,
   "id": "5ae38097",
   "metadata": {},
   "outputs": [
    {
     "data": {
      "text/plain": [
       "6"
      ]
     },
     "execution_count": 26,
     "metadata": {},
     "output_type": "execute_result"
    }
   ],
   "source": [
    "#diznin en büyük değerini bulma\n",
    "\n",
    "a.max()"
   ]
  },
  {
   "cell_type": "code",
   "execution_count": 27,
   "id": "46dfdadf",
   "metadata": {},
   "outputs": [
    {
     "data": {
      "text/plain": [
       "1"
      ]
     },
     "execution_count": 27,
     "metadata": {},
     "output_type": "execute_result"
    }
   ],
   "source": [
    "#dizinin en küçük değerini bulma\n",
    "\n",
    "a.min()"
   ]
  },
  {
   "cell_type": "code",
   "execution_count": 28,
   "id": "589f2c38",
   "metadata": {},
   "outputs": [
    {
     "data": {
      "text/plain": [
       "array([ 6, 15])"
      ]
     },
     "execution_count": 28,
     "metadata": {},
     "output_type": "execute_result"
    }
   ],
   "source": [
    "#dizinin satırlarını toplama (axis=1)\n",
    "\n",
    "a.sum(axis=1)"
   ]
  },
  {
   "cell_type": "code",
   "execution_count": 29,
   "id": "e11e9afe",
   "metadata": {},
   "outputs": [
    {
     "data": {
      "text/plain": [
       "array([5, 7, 9])"
      ]
     },
     "execution_count": 29,
     "metadata": {},
     "output_type": "execute_result"
    }
   ],
   "source": [
    "#dizinin sütunlarını toplama (axis=0)\n",
    "\n",
    "a.sum(axis=0)"
   ]
  },
  {
   "cell_type": "code",
   "execution_count": 30,
   "id": "f8808de1",
   "metadata": {},
   "outputs": [
    {
     "data": {
      "text/plain": [
       "array([[1.        , 1.41421356, 1.73205081],\n",
       "       [2.        , 2.23606798, 2.44948974]])"
      ]
     },
     "execution_count": 30,
     "metadata": {},
     "output_type": "execute_result"
    }
   ],
   "source": [
    "#dizinin elemanlarının karekökünü bulma - her bir elemanın karekökünü alır ve olusturur.\n",
    "\n",
    "np.sqrt(a)"
   ]
  },
  {
   "cell_type": "code",
   "execution_count": 31,
   "id": "fe8ee27d",
   "metadata": {},
   "outputs": [
    {
     "data": {
      "text/plain": [
       "array([[ 1,  4,  9],\n",
       "       [16, 25, 36]])"
      ]
     },
     "execution_count": 31,
     "metadata": {},
     "output_type": "execute_result"
    }
   ],
   "source": [
    "# dizinin elemanlarının kare kökünü bulma\n",
    "\n",
    "np.square(a)"
   ]
  },
  {
   "cell_type": "code",
   "execution_count": 34,
   "id": "94a4fcac",
   "metadata": {},
   "outputs": [
    {
     "data": {
      "text/plain": [
       "array([[0.16500185, 0.32553932, 0.2304762 ],\n",
       "       [0.50739932, 0.17084146, 0.17376878],\n",
       "       [0.22060325, 0.80524314, 0.41411811]])"
      ]
     },
     "execution_count": 34,
     "metadata": {},
     "output_type": "execute_result"
    }
   ],
   "source": [
    "# rastgele sayı üretme [0,1] arasında sürekli üniform-düzgün dağılım - 3*3 matris\n",
    "\n",
    "rastgele_dizi = np.random.random((3,3))\n",
    "rastgele_dizi"
   ]
  },
  {
   "cell_type": "markdown",
   "id": "cb7e303e",
   "metadata": {},
   "source": [
    "# İndeksleme ve Dilimleme"
   ]
  },
  {
   "cell_type": "code",
   "execution_count": 35,
   "id": "620a9e68",
   "metadata": {},
   "outputs": [],
   "source": [
    "dizi = np.array([1,2,3,4,5,6,7])"
   ]
  },
  {
   "cell_type": "code",
   "execution_count": 37,
   "id": "5e11a02e",
   "metadata": {},
   "outputs": [
    {
     "data": {
      "text/plain": [
       "1"
      ]
     },
     "execution_count": 37,
     "metadata": {},
     "output_type": "execute_result"
    }
   ],
   "source": [
    "#dizinin ilk elamanı yani sıfırıncı indekste bulunan elemanı\n",
    "dizi[0]"
   ]
  },
  {
   "cell_type": "code",
   "execution_count": 40,
   "id": "6be8800a",
   "metadata": {},
   "outputs": [
    {
     "data": {
      "text/plain": [
       "array([1, 2, 3, 4])"
      ]
     },
     "execution_count": 40,
     "metadata": {},
     "output_type": "execute_result"
    }
   ],
   "source": [
    "#dizinin ilk 4 elemanı\n",
    "\n",
    "dizi[0:4] #4 dahil değil"
   ]
  },
  {
   "cell_type": "code",
   "execution_count": 41,
   "id": "08ac172a",
   "metadata": {},
   "outputs": [
    {
     "data": {
      "text/plain": [
       "array([7, 6, 5, 4, 3, 2, 1])"
      ]
     },
     "execution_count": 41,
     "metadata": {},
     "output_type": "execute_result"
    }
   ],
   "source": [
    "#dizinin tersi\n",
    "\n",
    "dizi[::-1]"
   ]
  },
  {
   "cell_type": "code",
   "execution_count": 42,
   "id": "8dca50b3",
   "metadata": {},
   "outputs": [
    {
     "data": {
      "text/plain": [
       "array([[ 1,  2,  3,  4,  5],\n",
       "       [ 6,  7,  8,  9, 10]])"
      ]
     },
     "execution_count": 42,
     "metadata": {},
     "output_type": "execute_result"
    }
   ],
   "source": [
    "#matrislerde indeksleri ve dilimleri incelemek için 2 boyutlu bir matris oluşturalım\n",
    "\n",
    "dizi2D = np.array([[1,2,3,4,5],[6,7,8,9,10]])\n",
    "dizi2D"
   ]
  },
  {
   "cell_type": "code",
   "execution_count": 43,
   "id": "3b8b78ec",
   "metadata": {},
   "outputs": [
    {
     "data": {
      "text/plain": [
       "7"
      ]
     },
     "execution_count": 43,
     "metadata": {},
     "output_type": "execute_result"
    }
   ],
   "source": [
    "#dizinin 1. satır ve 1. sütunda bulunan elemanı; unutma! saymaya 0dan baslarız.\n",
    "\n",
    "dizi2D[1,1]"
   ]
  },
  {
   "cell_type": "code",
   "execution_count": 44,
   "id": "f24033df",
   "metadata": {},
   "outputs": [
    {
     "data": {
      "text/plain": [
       "array([2, 7])"
      ]
     },
     "execution_count": 44,
     "metadata": {},
     "output_type": "execute_result"
    }
   ],
   "source": [
    "#dizinin 1.sütununun tüm satırları\n",
    "dizi2D[:,1]"
   ]
  },
  {
   "cell_type": "code",
   "execution_count": 45,
   "id": "7fb30797",
   "metadata": {},
   "outputs": [
    {
     "data": {
      "text/plain": [
       "array([7, 8, 9])"
      ]
     },
     "execution_count": 45,
     "metadata": {},
     "output_type": "execute_result"
    }
   ],
   "source": [
    "#dizinin 1.satırının 1.2.3 elemanı\n",
    "\n",
    "dizi2D[1,1:4]"
   ]
  },
  {
   "cell_type": "code",
   "execution_count": 46,
   "id": "1a5ac5f5",
   "metadata": {},
   "outputs": [
    {
     "data": {
      "text/plain": [
       "array([ 6,  7,  8,  9, 10])"
      ]
     },
     "execution_count": 46,
     "metadata": {},
     "output_type": "execute_result"
    }
   ],
   "source": [
    "#dizinin son satırının yani 2. satırın tüm sütunları\n",
    "\n",
    "dizi2D[-1,:] #-1 son elemana eriim sağlar"
   ]
  },
  {
   "cell_type": "code",
   "execution_count": 47,
   "id": "975acb03",
   "metadata": {},
   "outputs": [
    {
     "data": {
      "text/plain": [
       "array([ 5, 10])"
      ]
     },
     "execution_count": 47,
     "metadata": {},
     "output_type": "execute_result"
    }
   ],
   "source": [
    "#dizinin son sütununun tüm satırları\n",
    "\n",
    "dizi2D[:,-1]"
   ]
  },
  {
   "cell_type": "markdown",
   "id": "9282fb0f",
   "metadata": {},
   "source": [
    "# Şekil Manipülasyonu\n",
    "* Bu bölümde dizilerin şekillerinin - boyut nasıl değiştireleceğine bakacağız."
   ]
  },
  {
   "cell_type": "code",
   "execution_count": 48,
   "id": "55c3b7df",
   "metadata": {},
   "outputs": [
    {
     "data": {
      "text/plain": [
       "array([[1, 2, 3],\n",
       "       [4, 5, 6],\n",
       "       [7, 8, 9]])"
      ]
     },
     "execution_count": 48,
     "metadata": {},
     "output_type": "execute_result"
    }
   ],
   "source": [
    "dizi2D = np.array([[1,2,3],[4,5,6],[7,8,9]])\n",
    "dizi2D"
   ]
  },
  {
   "cell_type": "code",
   "execution_count": 49,
   "id": "5dad6174",
   "metadata": {},
   "outputs": [
    {
     "data": {
      "text/plain": [
       "array([1, 2, 3, 4, 5, 6, 7, 8, 9])"
      ]
     },
     "execution_count": 49,
     "metadata": {},
     "output_type": "execute_result"
    }
   ],
   "source": [
    "#vektör haline getirme \n",
    "#ravel metodu ing anlam olarak tel tel ayırma - tek boyuta düşürür.\n",
    "vektor = dizi2D.ravel()\n",
    "vektor"
   ]
  },
  {
   "cell_type": "code",
   "execution_count": 50,
   "id": "e3f32b50",
   "metadata": {},
   "outputs": [
    {
     "data": {
      "text/plain": [
       "array([[1, 2, 3],\n",
       "       [4, 5, 6],\n",
       "       [7, 8, 9]])"
      ]
     },
     "execution_count": 50,
     "metadata": {},
     "output_type": "execute_result"
    }
   ],
   "source": [
    "vektor.reshape(3,3)"
   ]
  },
  {
   "cell_type": "code",
   "execution_count": 51,
   "id": "572acb71",
   "metadata": {},
   "outputs": [
    {
     "data": {
      "text/plain": [
       "array([[1, 4, 7],\n",
       "       [2, 5, 8],\n",
       "       [3, 6, 9]])"
      ]
     },
     "execution_count": 51,
     "metadata": {},
     "output_type": "execute_result"
    }
   ],
   "source": [
    "#matrislerde transpoze işlemi\n",
    "\n",
    "dizi2D.T #satırlar sütuna, sütunlar satıra dönüşür.\n"
   ]
  },
  {
   "cell_type": "markdown",
   "id": "24d0e57d",
   "metadata": {},
   "source": [
    "## Dizileri İstifleme\n",
    "* Bu bölümde dizilerin satır ve sütunlarına göre nasıl birleştirildiğini öğreneceğiz."
   ]
  },
  {
   "cell_type": "code",
   "execution_count": 52,
   "id": "d423bb40",
   "metadata": {},
   "outputs": [
    {
     "data": {
      "text/plain": [
       "array([[1, 2],\n",
       "       [3, 4]])"
      ]
     },
     "execution_count": 52,
     "metadata": {},
     "output_type": "execute_result"
    }
   ],
   "source": [
    "dizi1 = np.array([[1,2],[3,4]])\n",
    "dizi1"
   ]
  },
  {
   "cell_type": "code",
   "execution_count": 53,
   "id": "aa66bc82",
   "metadata": {},
   "outputs": [
    {
     "data": {
      "text/plain": [
       "array([[-1, -2],\n",
       "       [-3, -4]])"
      ]
     },
     "execution_count": 53,
     "metadata": {},
     "output_type": "execute_result"
    }
   ],
   "source": [
    "dizi2 = np.array([[-1,-2],[-3,-4]])\n",
    "dizi2"
   ]
  },
  {
   "cell_type": "code",
   "execution_count": 54,
   "id": "b2d7fca1",
   "metadata": {},
   "outputs": [
    {
     "data": {
      "text/plain": [
       "array([[ 1,  2],\n",
       "       [ 3,  4],\n",
       "       [-1, -2],\n",
       "       [-3, -4]])"
      ]
     },
     "execution_count": 54,
     "metadata": {},
     "output_type": "execute_result"
    }
   ],
   "source": [
    "# iki diziyi alt alta ekle: sütun sayısı sabit satırları arttır.\n",
    "\n",
    "dizi_dikey = np.vstack((dizi1,dizi2)) #-- >vertical dikey | dizi1i yukarı dizi2yi aşağı atar.\n",
    "dizi_dikey"
   ]
  },
  {
   "cell_type": "code",
   "execution_count": 56,
   "id": "69e79e57",
   "metadata": {},
   "outputs": [
    {
     "data": {
      "text/plain": [
       "array([[ 1,  2, -1, -2],\n",
       "       [ 3,  4, -3, -4]])"
      ]
     },
     "execution_count": 56,
     "metadata": {},
     "output_type": "execute_result"
    }
   ],
   "source": [
    "# iki diziyi yan yana ekle: satır sayısını sabit sütunlarını arttır.\n",
    "\n",
    "dizi_satir = np.hstack((dizi1,dizi2)) # -- > horizontal:yatay | dizi1i sola dizi2yi sağa atar.\n",
    "dizi_satir"
   ]
  },
  {
   "cell_type": "code",
   "execution_count": null,
   "id": "ba830fd2",
   "metadata": {},
   "outputs": [],
   "source": []
  },
  {
   "cell_type": "code",
   "execution_count": null,
   "id": "cd1a44ad",
   "metadata": {},
   "outputs": [],
   "source": []
  },
  {
   "cell_type": "code",
   "execution_count": null,
   "id": "d17b2749",
   "metadata": {},
   "outputs": [],
   "source": []
  },
  {
   "cell_type": "code",
   "execution_count": null,
   "id": "f4a56172",
   "metadata": {},
   "outputs": [],
   "source": []
  },
  {
   "cell_type": "code",
   "execution_count": null,
   "id": "891aa4e6",
   "metadata": {},
   "outputs": [],
   "source": []
  },
  {
   "cell_type": "code",
   "execution_count": null,
   "id": "685c11e0",
   "metadata": {},
   "outputs": [],
   "source": []
  }
 ],
 "metadata": {
  "kernelspec": {
   "display_name": "Python 3 (ipykernel)",
   "language": "python",
   "name": "python3"
  },
  "language_info": {
   "codemirror_mode": {
    "name": "ipython",
    "version": 3
   },
   "file_extension": ".py",
   "mimetype": "text/x-python",
   "name": "python",
   "nbconvert_exporter": "python",
   "pygments_lexer": "ipython3",
   "version": "3.11.4"
  }
 },
 "nbformat": 4,
 "nbformat_minor": 5
}
